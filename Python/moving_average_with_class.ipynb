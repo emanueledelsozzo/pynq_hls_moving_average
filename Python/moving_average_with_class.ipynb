{
 "cells": [
  {
   "cell_type": "code",
   "execution_count": null,
   "metadata": {},
   "outputs": [],
   "source": [
    "# import pynq and numpy libraries\n",
    "from pynq import Overlay\n",
    "from pynq import allocate\n",
    "import numpy as np"
   ]
  },
  {
   "cell_type": "code",
   "execution_count": null,
   "metadata": {},
   "outputs": [],
   "source": [
    "class AxiStreamIP:\n",
    "\n",
    "    def __init__(self, hierarchy):\n",
    "        self.__dma = hierarchy.axi_dma_0\n",
    "\n",
    "    def run(self, in_data, window):\n",
    "        out_dim = in_data.shape[0] - window + 1\n",
    "        out_data = np.empty(out_dim, np.float32)\n",
    "        buf_in = allocate(in_data.shape[0] + 2, np.int32, cacheable=True)\n",
    "        buf_out = allocate(out_dim, np.float32, cacheable=True)\n",
    "        buf_in[0] = in_data.shape[0]\n",
    "        buf_in[1] = window\n",
    "        buf_in[2:] = in_data[:]\n",
    "        buf_in.flush()\n",
    "\n",
    "        self.__dma.recvchannel.transfer(buf_out)\n",
    "        self.__dma.sendchannel.transfer(buf_in)\n",
    "\n",
    "        self.__dma.sendchannel.wait()\n",
    "        self.__dma.recvchannel.wait()\n",
    "\n",
    "        buf_out.invalidate()\n",
    "        out_data = buf_out.copy()\n",
    "        buf_in.freebuffer()\n",
    "        buf_out.freebuffer()\n",
    "        return out_data"
   ]
  },
  {
   "cell_type": "code",
   "execution_count": null,
   "metadata": {},
   "outputs": [],
   "source": [
    "# load overlay\n",
    "overlay = Overlay(\"./design_1_wrapper.bit\")"
   ]
  },
  {
   "cell_type": "code",
   "execution_count": null,
   "metadata": {},
   "outputs": [],
   "source": [
    "# access to the hierarchy and dma\n",
    "hier = overlay.moving_average_hier\n",
    "dma = hier.axi_dma_0"
   ]
  },
  {
   "cell_type": "code",
   "execution_count": null,
   "metadata": {},
   "outputs": [],
   "source": [
    "# moving average software function\n",
    "def moving_average(data, window):\n",
    "    data_out_size = data.shape[0] - window + 1\n",
    "    data_out = np.empty(data_out_size, np.float32)\n",
    "    for i in range(data_out_size):\n",
    "        data_out[i] = np.sum(data[i:i + window])/window\n",
    "    return data_out   "
   ]
  },
  {
   "cell_type": "code",
   "execution_count": null,
   "metadata": {},
   "outputs": [],
   "source": [
    "# input buffer dimension and window value\n",
    "dim = 1000\n",
    "window = 3"
   ]
  },
  {
   "cell_type": "code",
   "execution_count": null,
   "metadata": {},
   "outputs": [],
   "source": [
    "# create software input data\n",
    "data_in = np.random.randint(-1000, 1000, dim, np.int32)"
   ]
  },
  {
   "cell_type": "code",
   "execution_count": null,
   "metadata": {},
   "outputs": [],
   "source": [
    "# create software output data\n",
    "data_out = moving_average(data_in, window)"
   ]
  },
  {
   "cell_type": "code",
   "execution_count": null,
   "metadata": {},
   "outputs": [],
   "source": [
    "# create hardware buffers\n",
    "buf_in = allocate(dim + 2, np.int32)\n",
    "buf_out = allocate(dim - window + 1, np.float32)"
   ]
  },
  {
   "cell_type": "code",
   "execution_count": null,
   "metadata": {},
   "outputs": [],
   "source": [
    "# fill input buffer\n",
    "buf_in[0] = dim\n",
    "buf_in[1] = window\n",
    "buf_in[2:] = data_in[:]"
   ]
  },
  {
   "cell_type": "code",
   "execution_count": null,
   "metadata": {},
   "outputs": [],
   "source": [
    "# send and receive data\n",
    "dma.recvchannel.transfer(buf_out)\n",
    "dma.sendchannel.transfer(buf_in)\n",
    "# wait for data\n",
    "dma.sendchannel.wait()\n",
    "dma.recvchannel.wait()"
   ]
  },
  {
   "cell_type": "code",
   "execution_count": null,
   "metadata": {},
   "outputs": [],
   "source": [
    "# check results\n",
    "print(np.all(buf_out == data_out))"
   ]
  },
  {
   "cell_type": "code",
   "execution_count": null,
   "metadata": {},
   "outputs": [],
   "source": [
    "# run experiments on window values from 1 to 16\n",
    "max_window = 16\n",
    "print(\"Starting tests w/ class\", flush=True)\n",
    "myIP = AxiStreamIP(hier)\n",
    "for i in range(1, max_window + 1):\n",
    "    print(\"Test with window = %d ...\" % (i), end=\"\")\n",
    "    data_in = np.random.randint(-1000, 1000, dim, np.int32)\n",
    "    fpga_out = myIP.run(data_in, i)\n",
    "    data_out = moving_average(data_in, i)\n",
    "    if np.all(fpga_out == data_out):\n",
    "        print(\"Passed!\", flush=True)\n",
    "    else:\n",
    "        print(\"Failed!\", flush=True)"
   ]
  },
  {
   "cell_type": "code",
   "execution_count": null,
   "metadata": {},
   "outputs": [],
   "source": []
  }
 ],
 "metadata": {
  "kernelspec": {
   "display_name": "Python 3",
   "language": "python",
   "name": "python3"
  },
  "language_info": {
   "codemirror_mode": {
    "name": "ipython",
    "version": 3
   },
   "file_extension": ".py",
   "mimetype": "text/x-python",
   "name": "python",
   "nbconvert_exporter": "python",
   "pygments_lexer": "ipython3",
   "version": "3.6.5"
  }
 },
 "nbformat": 4,
 "nbformat_minor": 2
}
